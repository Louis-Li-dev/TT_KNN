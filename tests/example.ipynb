{
 "cells": [
  {
   "cell_type": "markdown",
   "metadata": {},
   "source": [
    "- This is for the competition."
   ]
  },
  {
   "cell_type": "code",
   "execution_count": 1,
   "metadata": {},
   "outputs": [],
   "source": [
    "import warnings\n",
    "warnings.simplefilter(action='ignore')\n",
    "import numpy as np\n",
    "import pandas as pd\n",
    "from tqdm import tqdm\n",
    "import os\n",
    "import matplotlib.pyplot as plt\n",
    "import sys\n",
    "import multiprocessing\n",
    "parent_dir = os.path.join(os.getcwd(), '..')\n",
    "if parent_dir not in sys.path:\n",
    "    sys.path.append(parent_dir)\n",
    "\n",
    "'''Custom packages'''\n",
    "from ttknn import ttknn\n",
    "from ttknn.light_utility import Utility, write_unseen_rows\n",
    "import geobleu\n",
    "CHUNK_SIZE = 10_000\n",
    "USERS_RANGE = (0, 3_000)"
   ]
  },
  {
   "cell_type": "markdown",
   "metadata": {},
   "source": [
    "# Data Loading"
   ]
  },
  {
   "cell_type": "code",
   "execution_count": 2,
   "metadata": {},
   "outputs": [],
   "source": [
    "tar_fold = '../cityB-dataset'\n",
    "tar_path_list = []\n",
    "for file in os.listdir(tar_fold):\n",
    "    curr_dir = os.path.join(os.getcwd(), tar_fold)\n",
    "    if file.endswith('.csv'):\n",
    "        tar_path_list.append(os.path.join(curr_dir, file))"
   ]
  },
  {
   "cell_type": "code",
   "execution_count": 3,
   "metadata": {},
   "outputs": [],
   "source": [
    "df = pd.read_csv(tar_path_list[0])"
   ]
  },
  {
   "cell_type": "markdown",
   "metadata": {},
   "source": [
    "# Collect Predictions"
   ]
  },
  {
   "cell_type": "code",
   "execution_count": 4,
   "metadata": {},
   "outputs": [
    {
     "name": "stderr",
     "output_type": "stream",
     "text": [
      "0it [00:00, ?it/s]\n"
     ]
    }
   ],
   "source": [
    "FILE_PATH = '../result/file.csv'\n",
    "STEPS = 5\n",
    "all_uids = df.uid.unique()[:3000]\n",
    "processing_uids = all_uids\n",
    "train_df, test_df = Utility.test_train_split(df, 60)\n",
    "\n",
    "num_cpus = multiprocessing.cpu_count()\n",
    "results = []\n",
    "if os.path.exists(FILE_PATH):\n",
    "    curr_df = pd.read_csv(FILE_PATH)\n",
    "    curr_uids = curr_df['uid'].unique()\n",
    "    processing_uids  = set(all_uids).difference(curr_uids)\n",
    "\n",
    "\n",
    "for i, uid in enumerate(tqdm(processing_uids)):\n",
    "    sample = train_df[train_df.uid == uid]\n",
    "    test_sample = test_df[test_df.uid == uid]\n",
    "\n",
    "    submission_df = test_sample[['d', 't']]\n",
    "    predicted = ttknn.temporal_knn_fit_predict(df=sample)\n",
    "    s1 = Utility.to_eval_format(submission_df.merge(predicted, on='t', how='left'))\n",
    "    s2 = Utility.to_eval_format(test_sample)\n",
    "\n",
    "    results.append({\"uid\": uid, \"s1\": str(s1), \"s2\": str(s2)})\n",
    "    \n",
    "    # Save intermediate results every n steps\n",
    "\n",
    "    intermediate_df = pd.DataFrame(results)\n",
    "    write_unseen_rows(intermediate_df, FILE_PATH)\n"
   ]
  },
  {
   "cell_type": "code",
   "execution_count": 5,
   "metadata": {},
   "outputs": [],
   "source": [
    "data = pd.read_csv('../result/file.csv')\n"
   ]
  },
  {
   "cell_type": "code",
   "execution_count": 13,
   "metadata": {},
   "outputs": [
    {
     "name": "stderr",
     "output_type": "stream",
     "text": [
      "  0%|          | 4/3000 [00:05<1:17:10,  1.55s/it]"
     ]
    }
   ],
   "source": [
    "tqdm.pandas()\n",
    "full_dtw = []\n",
    "def get_dtw(row):\n",
    "    s1 = eval(row['s1'])\n",
    "    s2 = eval(row['s2'])\n",
    "    if isinstance(s1, np.ndarray): s1 = s1.tolist()\n",
    "    if isinstance(s2, np.ndarray): s2 = s2.tolist()\n",
    "    try:\n",
    "        dtw = geobleu.calc_dtw(s1, s2, processes=2)\n",
    "    except Exception:\n",
    "        dtw = None \n",
    "    full_dtw.append({'uid': row['uid'], 'dtw': dtw})\n",
    "    write_unseen_rows(pd.DataFrame(full_dtw), \"../result/score.csv\")\n",
    "\n",
    "data.iloc[:3000].progress_apply(get_dtw, axis=1)"
   ]
  }
 ],
 "metadata": {
  "kernelspec": {
   "display_name": "base",
   "language": "python",
   "name": "python3"
  },
  "language_info": {
   "codemirror_mode": {
    "name": "ipython",
    "version": 3
   },
   "file_extension": ".py",
   "mimetype": "text/x-python",
   "name": "python",
   "nbconvert_exporter": "python",
   "pygments_lexer": "ipython3",
   "version": "3.11.5"
  }
 },
 "nbformat": 4,
 "nbformat_minor": 2
}
